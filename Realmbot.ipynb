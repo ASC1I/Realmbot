{
 "cells": [
  {
   "cell_type": "code",
   "execution_count": 1,
   "metadata": {
    "collapsed": true
   },
   "outputs": [],
   "source": [
    "#import all the libraries we need\n",
    "from bs4 import BeautifulSoup\n",
    "import requests\n",
    "import MySQLdb as mdb\n",
    "import datetime\n",
    "from datetime import date, datetime, timedelta\n",
    "%matplotlib inline\n",
    "import pandas as pd\n",
    "import matplotlib\n",
    "import matplotlib.pyplot as plt\n",
    "from sqlalchemy import create_engine\n",
    "import datetime\n",
    "import time\n",
    "import arrow\n",
    "import re\n",
    "import requests\n",
    "import json\n",
    "from slackclient import SlackClient\n",
    "from tabulate import tabulate\n",
    "\n",
    "# Make the graphs a bit prettier, and bigger\n",
    "matplotlib.style.use(['seaborn-talk', 'seaborn-ticks', 'seaborn-whitegrid'])\n",
    "plt.rcParams['figure.figsize'] = (15, 5)"
   ]
  },
  {
   "cell_type": "code",
   "execution_count": 2,
   "metadata": {
    "collapsed": true
   },
   "outputs": [],
   "source": [
    "#!sudo pip3 install -U tabulate"
   ]
  },
  {
   "cell_type": "code",
   "execution_count": 3,
   "metadata": {},
   "outputs": [
    {
     "data": {
      "text/plain": [
       "'http://52.44.93.5:5000/plots/dstrib.png'"
      ]
     },
     "execution_count": 3,
     "metadata": {},
     "output_type": "execute_result"
    }
   ],
   "source": [
    "def plot_recent():\n",
    "\n",
    "    conn_string_realmdata = 'mysql://{user}:{password}@{host}:{port}/{db}'.format(\n",
    "        user='root', \n",
    "        password='dwdstudent2015', \n",
    "        host = 'localhost', \n",
    "        port=3306, \n",
    "        db='realmdata'\n",
    "    )\n",
    "    engine_realmdata = create_engine(conn_string_realmdata)\n",
    "\n",
    "    query2 = '''\n",
    "    SELECT char_stats , count(*) \n",
    "    FROM recent_deaths \n",
    "    WHERE char_stats != \"hidden\"\n",
    "    GROUP BY `char_stats`\n",
    "    '''\n",
    "    df_realmdata = pd.read_sql(query2, con=engine_realmdata)\n",
    "    df_realmdata2 = df_realmdata.set_index('char_stats')\n",
    "    orange = df_realmdata2.plot(kind=\"bar\")\n",
    "    #this query is stored into a panda dataframe for graphing\n",
    "\n",
    "    # Save the plot and return its url\n",
    "    fig = orange.get_figure()\n",
    "    filename = 'plots/dstrib.png'\n",
    "    fig.savefig(filename)\n",
    "    plt.close(fig)\n",
    "    \n",
    "    url = 'http://52.44.93.5:5000/' + filename\n",
    "    return url\n",
    "\n",
    "plot_recent()"
   ]
  },
  {
   "cell_type": "code",
   "execution_count": 4,
   "metadata": {},
   "outputs": [
    {
     "data": {
      "text/plain": [
       "'http://52.44.93.5:5000/plots/armor.png'"
      ]
     },
     "execution_count": 4,
     "metadata": {},
     "output_type": "execute_result"
    }
   ],
   "source": [
    "def plot_recent_armor():\n",
    "    \n",
    "    conn_string_realmdata = 'mysql://{user}:{password}@{host}:{port}/{db}'.format(\n",
    "        user='root', \n",
    "        password='dwdstudent2015', \n",
    "        host = 'localhost', \n",
    "        port=3306, \n",
    "        db='realmdata'\n",
    "    )\n",
    "    engine_realmdata = create_engine(conn_string_realmdata)\n",
    "    \n",
    "    query3 = '''\n",
    "    SELECT armor , count(*)\n",
    "    FROM recent_deaths\n",
    "    WHERE armor != \"hidden\"\n",
    "    GROUP BY armor\n",
    "    HAVING count(*) > 5\n",
    "    ORDER BY count(*) DESC\n",
    "    '''\n",
    "    armor = pd.read_sql(query3, con = engine_realmdata)\n",
    "    armor2 = armor.set_index(\"armor\")\n",
    "    armfig = armor2.plot(kind = \"bar\")\n",
    "    \n",
    "    fig = armfig.get_figure()\n",
    "    filename = 'plots/armor.png'\n",
    "    fig.savefig(filename)\n",
    "    plt.close(fig)\n",
    "    \n",
    "    url = 'http://52.44.93.5:5000/' + filename\n",
    "    return url\n",
    "\n",
    "plot_recent_armor()"
   ]
  },
  {
   "cell_type": "code",
   "execution_count": 5,
   "metadata": {},
   "outputs": [
    {
     "data": {
      "text/plain": [
       "'http://52.44.93.5:5000/plots/weapons.png'"
      ]
     },
     "execution_count": 5,
     "metadata": {},
     "output_type": "execute_result"
    }
   ],
   "source": [
    "def plot_recent_weapon():\n",
    "    \n",
    "    conn_string_realmdata = 'mysql://{user}:{password}@{host}:{port}/{db}'.format(\n",
    "        user='root', \n",
    "        password='dwdstudent2015', \n",
    "        host = 'localhost', \n",
    "        port=3306, \n",
    "        db='realmdata'\n",
    "    )\n",
    "    engine_realmdata = create_engine(conn_string_realmdata)\n",
    "    \n",
    "    query3 = '''\n",
    "    SELECT weapon , count(*)\n",
    "    FROM recent_deaths\n",
    "    WHERE weapon != \"hidden\"\n",
    "    GROUP BY weapon\n",
    "    HAVING count(*) > 3\n",
    "    ORDER BY count(*) DESC\n",
    "    '''\n",
    "    weapondata = pd.read_sql(query3, con = engine_realmdata)\n",
    "    weapondata2 = weapondata.set_index(\"weapon\")\n",
    "    orange = weapondata2.plot(kind = \"bar\")\n",
    "\n",
    "    fig = orange.get_figure()\n",
    "    filename = 'plots/weapons.png'\n",
    "    fig.savefig(filename)\n",
    "    plt.close(fig)\n",
    "    \n",
    "    url = 'http://52.44.93.5:5000/' + filename\n",
    "    return url\n",
    "\n",
    "plot_recent_weapon()"
   ]
  },
  {
   "cell_type": "code",
   "execution_count": 6,
   "metadata": {},
   "outputs": [
    {
     "data": {
      "text/plain": [
       "['http://52.44.93.5:5000/plots/famepercent.png',\n",
       " 'http://52.44.93.5:5000/plots/fame.png']"
      ]
     },
     "execution_count": 6,
     "metadata": {},
     "output_type": "execute_result"
    }
   ],
   "source": [
    "def plot_recent_fame():\n",
    "    urllist = []\n",
    "    conn_string_realmdata = 'mysql://{user}:{password}@{host}:{port}/{db}'.format(\n",
    "        user='root', \n",
    "        password='dwdstudent2015', \n",
    "        host = 'localhost', \n",
    "        port=3306, \n",
    "        db='realmdata'\n",
    "    )\n",
    "    engine_realmdata = create_engine(conn_string_realmdata)\n",
    "    \n",
    "    query5 = '''\n",
    "    SELECT ((total_fame - base_fame)/total_fame) as precent_bonus\n",
    "    FROM recent_deaths\n",
    "    WHERE base_fame > 0 \n",
    "    LIMIT 100\n",
    "    '''\n",
    "    query6 = '''\n",
    "    SELECT base_fame, total_fame\n",
    "    FROM recent_deaths\n",
    "    WHERE base_fame > 0 \n",
    "    LIMIT 100\n",
    "    '''\n",
    "    fame = pd.read_sql(query5, con = engine_realmdata)\n",
    "    apple = fame.plot()\n",
    "    applefig = apple.get_figure()\n",
    "    filename1 = 'plots/famepercent.png'\n",
    "    applefig.savefig(filename1)\n",
    "    plt.close(applefig)\n",
    "    url1 = 'http://52.44.93.5:5000/' + filename1\n",
    "    \n",
    "    fame2 = pd.read_sql(query6, con = engine_realmdata)\n",
    "    orange = fame2.plot()\n",
    "    orangefig = orange.get_figure()\n",
    "    filename2 = 'plots/fame.png'\n",
    "    orangefig.savefig(filename2)\n",
    "    plt.close(orangefig)\n",
    "    url2 = 'http://52.44.93.5:5000/' + filename2\n",
    "    \n",
    "    urllist.append(url1)\n",
    "    urllist.append(url2)\n",
    "    \n",
    "    return urllist\n",
    "\n",
    "plot_recent_fame()"
   ]
  },
  {
   "cell_type": "code",
   "execution_count": 7,
   "metadata": {
    "collapsed": true
   },
   "outputs": [],
   "source": [
    "#this code creates the messages that the slackbot will return\n",
    "def create_message(username, info):\n",
    "    attachments = []\n",
    "    #if the user doesn't ask for the above an error is given\n",
    "    if info == \"options\":\n",
    "        message = \"Start every command with 'give me _______' \\n\"\n",
    "        message += \"fill in the blank with: \\n\"\n",
    "        message += \"'recent deaths'  :  for the last 100 recent deaths \\n\"\n",
    "        message += \"'recent deaths graph'  :  for a distribution of character stats \\n\"\n",
    "        message += \"'recent armor graph'  :  for a graph of character armor \\n\"\n",
    "        message += \"'recent weapons graph'  :  for a graph of characer weapons \\n\"\n",
    "        message += \"'recent fame graph'  :  for information regarding fame gain \\n\"\n",
    "    elif info == \"recent deaths\":\n",
    "        message = \"Visit this link for the last 100 recent deaths:\\n\"\n",
    "        message += \"http://52.44.93.5:5000/realm\"\n",
    "    elif info == \"recent deaths graph\":\n",
    "        url = plot_recent()\n",
    "        attachment = {\n",
    "            \"image_url\": url,\n",
    "            \"title\": str(datetime.datetime.now())\n",
    "        }\n",
    "        attachments.append(attachment)\n",
    "        message = \"Stat distribution of last 1000 deaths\"\n",
    "    elif info == \"recent armor graph\":\n",
    "        url = plot_recent_armor()\n",
    "        attachment = {\n",
    "            \"image_url\": url,\n",
    "            \"title\": str(datetime.datetime.now())\n",
    "        }\n",
    "        attachments.append(attachment)\n",
    "        message = \"Most common armors used by recent characters\"\n",
    "    elif info == \"recent weapons graph\":\n",
    "        url = plot_recent_weapon()\n",
    "        attachment = {\n",
    "            \"image_url\": url,\n",
    "            \"title\": str(datetime.datetime.now())\n",
    "        }\n",
    "        attachments.append(attachment)\n",
    "        message = \"Most common weapons used by recent characters\"\n",
    "    elif info == \"recent fame graph\":\n",
    "        url = plot_recent_fame()\n",
    "        attachment1 = {\n",
    "            \"image_url\": url[0],\n",
    "            \"title\": str(datetime.datetime.now())\n",
    "        }\n",
    "        attachment2 = {\n",
    "            \"image_url\": url[1],\n",
    "            \"title\": str(datetime.datetime.now())\n",
    "        }\n",
    "        attachments.append(attachment1)\n",
    "        attachments.append(attachment2)\n",
    "        message = \"Fame gain/bonuses of past 100 characters\"\n",
    "    else:\n",
    "        message =  \"Thank you @{u} for asking! \\n\".format(u=username)\n",
    "        message += \"Unfortunately I did not understand what you are asking for.\\n\"\n",
    "        message += \"Try using 'give me options', to see what you can do :)\"\n",
    "    return message,attachments #this function uses a regex to find which word\n"
   ]
  },
  {
   "cell_type": "code",
   "execution_count": 8,
   "metadata": {
    "collapsed": true
   },
   "outputs": [],
   "source": [
    "#this function uses a regex to find which word\n",
    "def extract_swag(message_text):\n",
    "    regex_expression = 'give me (.+)'\n",
    "    regex= re.compile(regex_expression)\n",
    "    matches = regex.finditer(message_text)\n",
    "    for match in matches:\n",
    "        return match.group(1)\n",
    "    # if there were no matches, return None\n",
    "    return None\n"
   ]
  },
  {
   "cell_type": "code",
   "execution_count": 9,
   "metadata": {
    "collapsed": true
   },
   "outputs": [],
   "source": [
    "#this function checks for users prompting the bot\n",
    "def message_matches(user_id, message_text):\n",
    "    regex_expression = '.*@' + user_id + '.*bot.*'\n",
    "    regex = re.compile(regex_expression)\n",
    "    # Check if the message text matches the regex above\n",
    "    match = regex.match(message_text)\n",
    "    # returns true if the match is not None (ie the regex had a match)\n",
    "    return match != None "
   ]
  },
  {
   "cell_type": "code",
   "execution_count": null,
   "metadata": {
    "collapsed": true
   },
   "outputs": [],
   "source": [
    "# Read the access token from the file and create the Slack Client\n",
    "\n",
    "secrets_file = 'slack_secret.json'\n",
    "f = open(secrets_file, 'r') \n",
    "content = f.read()\n",
    "f.close()\n",
    "\n",
    "auth_info = json.loads(content)\n",
    "auth_token = auth_info[\"access_token\"]\n",
    "bot_user_id = auth_info[\"user_id\"]\n",
    "\n",
    "from slackclient import SlackClient\n",
    "sc = SlackClient(auth_token)\n"
   ]
  },
  {
   "cell_type": "code",
   "execution_count": null,
   "metadata": {
    "collapsed": true
   },
   "outputs": [],
   "source": [
    "# this code runs the slackbot\n",
    "\n",
    "if sc.rtm_connect():\n",
    "    # We are going to be polling the Slack API for recent events continuously\n",
    "    while True:\n",
    "        # We are going to wait 1 second between monitoring attempts\n",
    "        time.sleep(1)\n",
    "        # If there are any new events, we will get a response. If there are no events, the response will be empty\n",
    "        response = sc.rtm_read()\n",
    "        for item in response:\n",
    "            # Check that the event is a message. If not, ignore and proceed to the next event.\n",
    "            if item.get(\"type\") != 'message':\n",
    "                continue\n",
    "                \n",
    "            # Check that the message comes from a user. If not, ignore and proceed to the next event.\n",
    "            if item.get(\"user\") == None:\n",
    "                continue\n",
    "            \n",
    "            # Check that the message is asking the bot to do something. If not, ignore and proceed to the next event.\n",
    "            message_text = item.get('text')\n",
    "            if not message_matches(bot_user_id, message_text):\n",
    "                continue\n",
    "                \n",
    "            # Get the username of the user who asked the question\n",
    "            response = sc.api_call(\"users.info\", user=item[\"user\"])\n",
    "            username = response['user'].get('name')\n",
    "            \n",
    "            # Extract the station name from the user's message\n",
    "            swag = extract_swag(message_text)\n",
    "\n",
    "            # Prepare the message that we will send back to the user\n",
    "            message, attachments = create_message(username, swag)\n",
    "\n",
    "            # Post a response to the #bots channel\n",
    "            sc.api_call(\"chat.postMessage\", channel=\"#bots\", text=message, attachments = attachments)"
   ]
  },
  {
   "cell_type": "code",
   "execution_count": null,
   "metadata": {
    "collapsed": true
   },
   "outputs": [],
   "source": []
  }
 ],
 "metadata": {
  "kernelspec": {
   "display_name": "Python 3",
   "language": "python",
   "name": "python3"
  },
  "language_info": {
   "codemirror_mode": {
    "name": "ipython",
    "version": 3
   },
   "file_extension": ".py",
   "mimetype": "text/x-python",
   "name": "python",
   "nbconvert_exporter": "python",
   "pygments_lexer": "ipython3",
   "version": "3.5.2"
  }
 },
 "nbformat": 4,
 "nbformat_minor": 2
}
